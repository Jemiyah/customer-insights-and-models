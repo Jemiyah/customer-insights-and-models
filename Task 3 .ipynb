{
 "cells": [
  {
   "cell_type": "code",
   "execution_count": 1,
   "id": "948d07eb-644e-4f69-a21e-a06336e426dc",
   "metadata": {},
   "outputs": [],
   "source": [
    "from sklearn.cluster import KMeans\n",
    "from sklearn.metrics import davies_bouldin_score\n",
    "from sklearn.preprocessing import StandardScaler\n",
    "from sklearn.decomposition import PCA\n",
    "import pandas as pd\n",
    "import matplotlib.pyplot as plt\n",
    "import seaborn as sns"
   ]
  },
  {
   "cell_type": "code",
   "execution_count": 5,
   "id": "620cfaad-10b2-4143-a897-fd7fbf3defdd",
   "metadata": {},
   "outputs": [],
   "source": [
    "# Load the datasets\n",
    "customers = pd.read_csv('Customers.csv')\n",
    "transactions = pd.read_csv('Transactions.csv')"
   ]
  },
  {
   "cell_type": "code",
   "execution_count": 7,
   "id": "1abb4612-b51c-4ff0-a7e3-6d56cbebd728",
   "metadata": {},
   "outputs": [],
   "source": [
    "# Prepare the data for clustering\n",
    "# Aggregate transactional data by customer\n",
    "customer_data = transactions.groupby(\"CustomerID\").agg(TotalTransactions=(\"TransactionID\", \"count\"),TotalQuantity=(\"Quantity\", \"sum\"),TotalValue=(\"TotalValue\", \"sum\")).merge(customers.set_index(\"CustomerID\"), on=\"CustomerID\")"
   ]
  },
  {
   "cell_type": "code",
   "execution_count": 9,
   "id": "23d2a767-1973-4ad2-aa2a-e6a296f5d58d",
   "metadata": {},
   "outputs": [],
   "source": [
    "# Encode Region as a numeric value\n",
    "customer_data[\"Region\"] = customer_data[\"Region\"].astype(\"category\").cat.codes"
   ]
  },
  {
   "cell_type": "code",
   "execution_count": 19,
   "id": "6bc188db-4db1-4f07-89d5-bfe73fce37d8",
   "metadata": {},
   "outputs": [
    {
     "data": {
      "text/html": [
       "<div>\n",
       "<style scoped>\n",
       "    .dataframe tbody tr th:only-of-type {\n",
       "        vertical-align: middle;\n",
       "    }\n",
       "\n",
       "    .dataframe tbody tr th {\n",
       "        vertical-align: top;\n",
       "    }\n",
       "\n",
       "    .dataframe thead th {\n",
       "        text-align: right;\n",
       "    }\n",
       "</style>\n",
       "<table border=\"1\" class=\"dataframe\">\n",
       "  <thead>\n",
       "    <tr style=\"text-align: right;\">\n",
       "      <th></th>\n",
       "      <th>TotalTransactions</th>\n",
       "      <th>TotalQuantity</th>\n",
       "      <th>TotalValue</th>\n",
       "      <th>Region</th>\n",
       "    </tr>\n",
       "    <tr>\n",
       "      <th>CustomerID</th>\n",
       "      <th></th>\n",
       "      <th></th>\n",
       "      <th></th>\n",
       "      <th></th>\n",
       "    </tr>\n",
       "  </thead>\n",
       "  <tbody>\n",
       "    <tr>\n",
       "      <th>C0001</th>\n",
       "      <td>5</td>\n",
       "      <td>12</td>\n",
       "      <td>3354.52</td>\n",
       "      <td>3</td>\n",
       "    </tr>\n",
       "    <tr>\n",
       "      <th>C0002</th>\n",
       "      <td>4</td>\n",
       "      <td>10</td>\n",
       "      <td>1862.74</td>\n",
       "      <td>0</td>\n",
       "    </tr>\n",
       "    <tr>\n",
       "      <th>C0003</th>\n",
       "      <td>4</td>\n",
       "      <td>14</td>\n",
       "      <td>2725.38</td>\n",
       "      <td>3</td>\n",
       "    </tr>\n",
       "    <tr>\n",
       "      <th>C0004</th>\n",
       "      <td>8</td>\n",
       "      <td>23</td>\n",
       "      <td>5354.88</td>\n",
       "      <td>3</td>\n",
       "    </tr>\n",
       "    <tr>\n",
       "      <th>C0005</th>\n",
       "      <td>3</td>\n",
       "      <td>7</td>\n",
       "      <td>2034.24</td>\n",
       "      <td>0</td>\n",
       "    </tr>\n",
       "    <tr>\n",
       "      <th>...</th>\n",
       "      <td>...</td>\n",
       "      <td>...</td>\n",
       "      <td>...</td>\n",
       "      <td>...</td>\n",
       "    </tr>\n",
       "    <tr>\n",
       "      <th>C0196</th>\n",
       "      <td>4</td>\n",
       "      <td>12</td>\n",
       "      <td>4982.88</td>\n",
       "      <td>1</td>\n",
       "    </tr>\n",
       "    <tr>\n",
       "      <th>C0197</th>\n",
       "      <td>3</td>\n",
       "      <td>9</td>\n",
       "      <td>1928.65</td>\n",
       "      <td>1</td>\n",
       "    </tr>\n",
       "    <tr>\n",
       "      <th>C0198</th>\n",
       "      <td>2</td>\n",
       "      <td>3</td>\n",
       "      <td>931.83</td>\n",
       "      <td>1</td>\n",
       "    </tr>\n",
       "    <tr>\n",
       "      <th>C0199</th>\n",
       "      <td>4</td>\n",
       "      <td>9</td>\n",
       "      <td>1979.28</td>\n",
       "      <td>1</td>\n",
       "    </tr>\n",
       "    <tr>\n",
       "      <th>C0200</th>\n",
       "      <td>5</td>\n",
       "      <td>16</td>\n",
       "      <td>4758.60</td>\n",
       "      <td>0</td>\n",
       "    </tr>\n",
       "  </tbody>\n",
       "</table>\n",
       "<p>199 rows × 4 columns</p>\n",
       "</div>"
      ],
      "text/plain": [
       "            TotalTransactions  TotalQuantity  TotalValue  Region\n",
       "CustomerID                                                      \n",
       "C0001                       5             12     3354.52       3\n",
       "C0002                       4             10     1862.74       0\n",
       "C0003                       4             14     2725.38       3\n",
       "C0004                       8             23     5354.88       3\n",
       "C0005                       3              7     2034.24       0\n",
       "...                       ...            ...         ...     ...\n",
       "C0196                       4             12     4982.88       1\n",
       "C0197                       3              9     1928.65       1\n",
       "C0198                       2              3      931.83       1\n",
       "C0199                       4              9     1979.28       1\n",
       "C0200                       5             16     4758.60       0\n",
       "\n",
       "[199 rows x 4 columns]"
      ]
     },
     "execution_count": 19,
     "metadata": {},
     "output_type": "execute_result"
    }
   ],
   "source": [
    "# Select features for clustering\n",
    "clustering_features = customer_data[[\"TotalTransactions\", \"TotalQuantity\", \"TotalValue\", \"Region\"]]\n",
    "clustering_features"
   ]
  },
  {
   "cell_type": "code",
   "execution_count": 17,
   "id": "6f8f8b1a-c1a8-4b30-b5a4-1cd55ba3e6c1",
   "metadata": {},
   "outputs": [
    {
     "data": {
      "text/plain": [
       "array([[-0.01145819, -0.12203296, -0.06170143,  1.23740234],\n",
       "       [-0.46749414, -0.44800021, -0.87774353, -1.41989693],\n",
       "       [-0.46749414,  0.20393428, -0.40585722,  1.23740234],\n",
       "       [ 1.35664965,  1.67078689,  1.03254704,  1.23740234],\n",
       "       [-0.92353008, -0.93695108, -0.78392861, -1.41989693],\n",
       "       [-0.46749414, -0.12203296,  0.41587942,  1.23740234],\n",
       "       [-0.92353008, -0.77396745, -0.48548229, -1.41989693],\n",
       "       [ 2.26872154,  1.18183602,  0.43997044,  0.35163592],\n",
       "       [-0.92353008, -1.58888557, -1.40630171, -0.53413051],\n",
       "       [-0.46749414, -0.12203296, -0.9571662 , -0.53413051],\n",
       "       [-0.01145819,  0.04095066,  0.14369581,  1.23740234],\n",
       "       [ 0.9006137 ,  1.0188524 ,  0.96492372,  1.23740234],\n",
       "       [ 0.9006137 ,  0.85586877,  1.38575064,  1.23740234],\n",
       "       [-1.83560198, -1.75186919, -1.72239508, -0.53413051],\n",
       "       [-1.37956603, -1.42590195, -1.26353893,  0.35163592],\n",
       "       [-0.01145819, -0.44800021,  0.22269727,  0.35163592],\n",
       "       [ 1.35664965,  1.34481964,  0.70375173, -0.53413051],\n",
       "       [-0.01145819,  0.85586877,  0.71908486,  0.35163592],\n",
       "       [ 0.44457776, -0.28501659, -0.70101045, -0.53413051],\n",
       "       [-1.83560198, -1.58888557, -1.39212827,  0.35163592],\n",
       "       [ 1.35664965,  0.69288515,  1.0681256 , -1.41989693],\n",
       "       [ 0.44457776,  0.3669179 ,  0.64973294, -1.41989693],\n",
       "       [ 0.44457776,  0.20393428,  0.92520418, -0.53413051],\n",
       "       [ 0.9006137 ,  0.20393428,  0.08736309,  0.35163592],\n",
       "       [-0.46749414, -0.77396745, -1.02704328,  1.23740234],\n",
       "       [-0.46749414, -0.12203296,  0.04471149,  0.35163592],\n",
       "       [-0.46749414, -0.12203296, -0.49471609, -1.41989693],\n",
       "       [ 1.35664965,  1.83377051,  1.83377022, -1.41989693],\n",
       "       [-0.46749414, -0.44800021, -0.9197934 ,  0.35163592],\n",
       "       [-0.01145819,  0.04095066, -0.50196965,  0.35163592],\n",
       "       [-0.46749414, -0.44800021, -0.79971578,  1.23740234],\n",
       "       [-0.92353008, -1.26291832, -1.52856197,  1.23740234],\n",
       "       [-1.83560198, -1.75186919, -1.82415282,  0.35163592],\n",
       "       [ 0.44457776,  0.69288515, -0.21559072,  0.35163592],\n",
       "       [-0.46749414, -0.44800021, -0.48122096,  0.35163592],\n",
       "       [-0.92353008, -0.77396745, -0.8694178 ,  0.35163592],\n",
       "       [-0.01145819,  0.20393428,  0.42966447, -0.53413051],\n",
       "       [-0.01145819,  0.04095066, -0.42146387,  0.35163592],\n",
       "       [ 0.44457776,  0.85586877,  0.42246014,  1.23740234],\n",
       "       [-0.92353008, -0.44800021,  0.27465378, -1.41989693],\n",
       "       [ 0.9006137 ,  1.67078689,  1.46737783, -0.53413051],\n",
       "       [-0.92353008, -1.0999347 , -0.58248637,  0.35163592],\n",
       "       [-0.92353008, -1.0999347 , -1.27784912, -1.41989693],\n",
       "       [-0.92353008, -0.93695108, -0.1297569 , -0.53413051],\n",
       "       [ 0.9006137 ,  1.67078689,  1.39736947, -1.41989693],\n",
       "       [ 0.9006137 ,  1.0188524 ,  1.18185773,  0.35163592],\n",
       "       [ 0.9006137 ,  0.04095066, -0.32645096,  0.35163592],\n",
       "       [-0.01145819, -0.12203296,  0.2098531 ,  1.23740234],\n",
       "       [ 1.35664965,  0.69288515, -0.63008308,  0.35163592],\n",
       "       [-0.92353008, -0.77396745, -0.21798122,  0.35163592],\n",
       "       [ 0.9006137 ,  0.52990153,  1.22110135, -0.53413051],\n",
       "       [-0.46749414, -0.44800021, -0.53570473,  1.23740234],\n",
       "       [ 0.44457776,  0.85586877,  1.01153031, -0.53413051],\n",
       "       [ 1.35664965,  1.83377051,  2.50159022, -1.41989693],\n",
       "       [-0.01145819, -0.12203296, -0.33348571,  0.35163592],\n",
       "       [-0.01145819, -0.12203296, -0.15556011, -1.41989693],\n",
       "       [ 0.44457776,  0.52990153,  0.58481739, -0.53413051],\n",
       "       [-1.83560198, -1.91485281, -1.67990212,  0.35163592],\n",
       "       [ 1.35664965,  1.34481964,  1.97255613,  0.35163592],\n",
       "       [-1.83560198, -1.75186919, -1.85165727, -0.53413051],\n",
       "       [-0.92353008, -1.0999347 , -0.72702699, -0.53413051],\n",
       "       [-0.92353008, -0.77396745, -0.99983968, -0.53413051],\n",
       "       [-1.37956603, -1.26291832, -1.14281581, -0.53413051],\n",
       "       [-0.01145819,  0.04095066,  0.31314798, -0.53413051],\n",
       "       [ 2.26872154,  2.32272138,  2.29553108,  0.35163592],\n",
       "       [-0.92353008, -0.61098383,  0.18159375, -0.53413051],\n",
       "       [ 0.44457776,  0.20393428,  0.34108459,  0.35163592],\n",
       "       [ 1.35664965,  1.50780326,  1.35832277,  0.35163592],\n",
       "       [-0.01145819, -0.44800021, -0.3219927 , -0.53413051],\n",
       "       [-0.46749414, -0.12203296, -0.18698674, -0.53413051],\n",
       "       [-0.92353008, -0.93695108, -1.13042021,  1.23740234],\n",
       "       [-0.01145819,  0.04095066, -0.25585728,  0.35163592],\n",
       "       [-0.92353008, -0.44800021, -0.76954183, -0.53413051],\n",
       "       [-0.92353008, -0.77396745, -0.22542624, -0.53413051],\n",
       "       [ 1.8126856 ,  2.485705  ,  1.302827  , -0.53413051],\n",
       "       [-0.01145819, -0.28501659, -0.62046637,  1.23740234],\n",
       "       [-0.92353008, -0.93695108, -1.43868564,  1.23740234],\n",
       "       [-1.83560198, -1.75186919, -1.35213522, -1.41989693],\n",
       "       [-0.46749414, -0.12203296,  0.42900257,  0.35163592],\n",
       "       [-1.83560198, -1.58888557, -1.34557091, -1.41989693],\n",
       "       [ 0.44457776,  0.20393428,  0.04111754, -0.53413051],\n",
       "       [ 0.9006137 ,  1.67078689,  2.24586661,  1.23740234],\n",
       "       [-0.92353008, -1.42590195, -1.54508215,  1.23740234],\n",
       "       [ 1.8126856 ,  1.18183602,  0.53268583, -1.41989693],\n",
       "       [-0.92353008, -0.93695108, -0.47535685,  1.23740234],\n",
       "       [-0.01145819,  0.04095066, -0.38982937, -0.53413051],\n",
       "       [ 0.9006137 ,  1.50780326,  1.71597369,  1.23740234],\n",
       "       [-0.01145819, -0.44800021, -0.72860243, -1.41989693],\n",
       "       [-1.37956603, -0.93695108, -0.4983921 , -0.53413051],\n",
       "       [ 0.9006137 ,  0.52990153,  0.36696985, -1.41989693],\n",
       "       [ 0.44457776,  1.18183602, -0.18032944,  1.23740234],\n",
       "       [-0.46749414, -0.44800021, -0.24690794, -1.41989693],\n",
       "       [ 1.8126856 ,  1.0188524 ,  0.99978567, -1.41989693],\n",
       "       [-0.46749414, -0.61098383, -1.25834765,  0.35163592],\n",
       "       [-1.37956603, -1.26291832, -1.19418153,  1.23740234],\n",
       "       [-0.01145819,  0.52990153,  1.42533343,  1.23740234],\n",
       "       [-1.83560198, -1.91485281, -1.82147239, -1.41989693],\n",
       "       [ 1.35664965,  0.20393428, -0.16919199,  0.35163592],\n",
       "       [ 1.35664965,  1.34481964,  1.77696159,  1.23740234],\n",
       "       [ 0.44457776,  0.20393428,  0.84030578, -0.53413051],\n",
       "       [ 1.35664965,  1.18183602,  1.13982427, -1.41989693],\n",
       "       [ 1.35664965,  1.34481964,  1.45784864,  1.23740234],\n",
       "       [-0.01145819, -0.93695108, -0.549632  , -0.53413051],\n",
       "       [ 1.35664965,  1.34481964,  1.70222693,  1.23740234],\n",
       "       [ 0.44457776,  0.52990153,  0.73308872, -0.53413051],\n",
       "       [-0.01145819,  0.04095066, -0.28883747, -1.41989693],\n",
       "       [-0.01145819, -0.12203296,  0.08566731,  1.23740234],\n",
       "       [ 0.9006137 ,  0.52990153,  0.75556601,  1.23740234],\n",
       "       [ 2.72475749,  3.13763949,  1.10495684,  0.35163592],\n",
       "       [-1.83560198, -1.42590195, -1.38123699, -1.41989693],\n",
       "       [-0.01145819,  0.52990153, -0.81741753, -0.53413051],\n",
       "       [-0.92353008, -0.77396745, -0.82480785,  1.23740234],\n",
       "       [ 1.35664965,  1.50780326,  0.73563239,  1.23740234],\n",
       "       [-0.01145819,  0.85586877,  1.26533386, -0.53413051],\n",
       "       [-0.92353008, -0.77396745, -0.18059201, -1.41989693],\n",
       "       [ 0.44457776, -0.28501659, -0.38764126,  0.35163592],\n",
       "       [-0.46749414, -0.12203296,  0.30685718,  0.35163592],\n",
       "       [ 0.44457776, -0.44800021, -0.01780261,  1.23740234],\n",
       "       [-0.01145819, -1.0999347 , -1.24486894, -0.53413051],\n",
       "       [-0.92353008, -0.61098383, -0.54554572,  1.23740234],\n",
       "       [-0.46749414, -0.77396745, -1.36362276, -0.53413051],\n",
       "       [ 0.9006137 ,  0.69288515,  0.87810526,  0.35163592],\n",
       "       [-1.37956603, -1.42590195, -1.13084142, -1.41989693],\n",
       "       [ 0.9006137 ,  1.0188524 ,  0.43598809, -0.53413051],\n",
       "       [-0.46749414, -0.44800021, -0.26987756,  0.35163592],\n",
       "       [ 0.44457776,  0.04095066,  0.60077413,  1.23740234],\n",
       "       [ 0.44457776, -0.28501659, -0.12824164, -0.53413051],\n",
       "       [-1.37956603, -1.58888557, -1.47375546, -1.41989693],\n",
       "       [-0.92353008, -0.61098383, -0.61688335,  1.23740234],\n",
       "       [-1.83560198, -1.75186919, -1.5677509 ,  1.23740234],\n",
       "       [-0.92353008, -0.93695108, -0.83339068,  0.35163592],\n",
       "       [-0.92353008, -0.77396745, -0.88402339, -0.53413051],\n",
       "       [-0.46749414, -0.28501659, -0.31890748,  1.23740234],\n",
       "       [-0.01145819,  0.52990153, -0.43107511, -1.41989693],\n",
       "       [-0.46749414, -0.44800021, -0.18146725, -0.53413051],\n",
       "       [ 0.44457776,  1.34481964,  0.454948  , -1.41989693],\n",
       "       [-0.01145819, -0.28501659, -0.07371958,  1.23740234],\n",
       "       [-0.01145819,  0.69288515,  1.17224101, -1.41989693],\n",
       "       [ 1.35664965,  0.04095066,  0.12927621,  0.35163592],\n",
       "       [-1.37956603, -1.26291832, -0.86384908, -1.41989693],\n",
       "       [ 2.26872154,  2.32272138,  3.94217164, -0.53413051],\n",
       "       [-0.46749414, -0.28501659, -0.67189773, -1.41989693],\n",
       "       [ 0.9006137 ,  1.34481964,  1.40985807, -1.41989693],\n",
       "       [-1.37956603, -0.77396745, -1.18301673,  0.35163592],\n",
       "       [ 1.35664965,  1.18183602,  1.2603231 , -1.41989693],\n",
       "       [-0.46749414, -0.77396745, -0.49041646, -1.41989693],\n",
       "       [ 1.8126856 ,  0.20393428, -0.28383765,  1.23740234],\n",
       "       [-0.01145819,  0.85586877,  1.08884146,  1.23740234],\n",
       "       [-0.01145819,  0.3669179 ,  0.51281786, -0.53413051],\n",
       "       [-1.83560198, -1.75186919, -1.57924938,  1.23740234],\n",
       "       [-1.83560198, -1.42590195, -1.77419842,  1.23740234],\n",
       "       [-0.01145819, -0.44800021, -0.04455764,  1.23740234],\n",
       "       [ 0.44457776,  0.69288515,  0.69881209,  1.23740234],\n",
       "       [ 0.44457776, -0.28501659,  0.1292598 ,  0.35163592],\n",
       "       [ 0.9006137 ,  0.69288515,  1.04510128,  1.23740234],\n",
       "       [ 2.72475749,  2.485705  ,  2.27953058,  0.35163592],\n",
       "       [-0.01145819, -0.44800021, -0.87043527,  0.35163592],\n",
       "       [-0.46749414, -0.61098383,  0.1363219 ,  1.23740234],\n",
       "       [-0.92353008, -0.77396745, -0.76304864, -1.41989693],\n",
       "       [-0.01145819,  0.20393428, -0.29560418,  0.35163592],\n",
       "       [ 1.35664965,  0.20393428, -0.17804834, -1.41989693],\n",
       "       [ 1.35664965,  1.18183602,  0.73023872, -1.41989693],\n",
       "       [ 0.44457776,  1.0188524 ,  1.26251668,  1.23740234],\n",
       "       [-0.01145819, -0.44800021, -0.20766431, -0.53413051],\n",
       "       [ 1.8126856 ,  2.81167225,  1.77279325,  1.23740234],\n",
       "       [-0.46749414, -0.28501659, -0.58092188, -0.53413051],\n",
       "       [-0.92353008, -0.77396745, -0.63832129, -0.53413051],\n",
       "       [-0.46749414, -0.12203296,  0.86786493,  1.23740234],\n",
       "       [ 0.44457776,  1.18183602,  0.58313255,  1.23740234],\n",
       "       [-0.01145819,  0.3669179 ,  0.80107856, -0.53413051],\n",
       "       [-0.01145819,  0.3669179 ,  0.91792873,  1.23740234],\n",
       "       [ 0.44457776, -0.44800021, -0.69232368, -0.53413051],\n",
       "       [ 1.35664965,  1.18183602,  1.28043724, -1.41989693],\n",
       "       [-0.01145819, -0.12203296, -0.31473914,  1.23740234],\n",
       "       [ 2.26872154,  2.15973776,  1.50060964, -1.41989693],\n",
       "       [-0.92353008, -0.12203296, -0.6214182 ,  0.35163592],\n",
       "       [-0.46749414, -0.61098383, -0.52377957, -1.41989693],\n",
       "       [-0.46749414, -0.61098383, -0.4149105 , -1.41989693],\n",
       "       [ 0.44457776,  0.20393428,  0.10148183, -0.53413051],\n",
       "       [ 0.44457776,  0.3669179 , -0.06548685,  1.23740234],\n",
       "       [-0.01145819,  0.69288515,  0.82789923, -0.53413051],\n",
       "       [-0.01145819, -0.12203296,  0.20945925,  0.35163592],\n",
       "       [ 0.9006137 , -0.28501659, -0.04055341,  1.23740234],\n",
       "       [-0.92353008, -0.61098383, -0.02351903,  0.35163592],\n",
       "       [-0.92353008, -0.93695108, -0.93304784, -1.41989693],\n",
       "       [-0.01145819, -0.28501659,  0.62641323,  1.23740234],\n",
       "       [ 1.35664965,  1.34481964,  1.99336499,  1.23740234],\n",
       "       [-0.01145819, -0.28501659, -0.45080633,  0.35163592],\n",
       "       [-0.01145819,  0.20393428, -0.2649215 ,  1.23740234],\n",
       "       [-0.01145819, -0.28501659, -0.25674347,  1.23740234],\n",
       "       [-0.46749414, -0.77396745, -0.76287906,  1.23740234],\n",
       "       [-0.46749414, -0.28501659, -0.25055113, -1.41989693],\n",
       "       [ 0.9006137 ,  0.20393428,  0.21982538,  0.35163592],\n",
       "       [ 0.44457776,  0.69288515,  0.31123339,  1.23740234],\n",
       "       [-0.46749414, -0.12203296,  0.82905346, -0.53413051],\n",
       "       [-0.92353008, -0.61098383, -0.84168906, -0.53413051],\n",
       "       [-1.37956603, -1.58888557, -1.38697529, -0.53413051],\n",
       "       [-0.46749414, -0.61098383, -0.81399315, -0.53413051],\n",
       "       [-0.01145819,  0.52990153,  0.70636652, -1.41989693]])"
      ]
     },
     "execution_count": 17,
     "metadata": {},
     "output_type": "execute_result"
    }
   ],
   "source": [
    "# Standardize the data\n",
    "scaler = StandardScaler()\n",
    "scaled_features = scaler.fit_transform(clustering_features)\n",
    "scaled_features"
   ]
  },
  {
   "cell_type": "code",
   "execution_count": 35,
   "id": "d5dd99f5-38da-4e10-8d00-663bf5ca5ea7",
   "metadata": {},
   "outputs": [],
   "source": [
    "# Find the optimal number of clusters using the Elbow Method\n",
    "\n",
    "range_clusters = range(2, 11)  # Between 2 and 10 clusters\n",
    "inertia = []"
   ]
  },
  {
   "cell_type": "code",
   "execution_count": 37,
   "id": "ea8c21c2-d1ba-4dea-a36e-d7847f23c13d",
   "metadata": {},
   "outputs": [
    {
     "name": "stdout",
     "output_type": "stream",
     "text": [
      "Number of clusters (x): 9\n",
      "Inertia values (y): 0\n"
     ]
    }
   ],
   "source": [
    "print(\"Number of clusters (x):\", len(range_clusters))\n",
    "print(\"Inertia values (y):\", len(inertia))"
   ]
  },
  {
   "cell_type": "code",
   "execution_count": 39,
   "id": "d28ac52d-5188-4e96-8c57-586d18d64b50",
   "metadata": {},
   "outputs": [],
   "source": [
    "import warnings\n",
    "warnings.filterwarnings(\"ignore\")"
   ]
  },
  {
   "cell_type": "code",
   "execution_count": 41,
   "id": "b158a08f-73f4-4b76-a615-b81256dd9643",
   "metadata": {},
   "outputs": [],
   "source": [
    "for k in range_clusters:\n",
    "    kmeans = KMeans(n_clusters=k, random_state=42, n_init=10)\n",
    "    kmeans.fit(scaled_features)\n",
    "    inertia.append(kmeans.inertia_)"
   ]
  },
  {
   "cell_type": "code",
   "execution_count": 42,
   "id": "558154db-312f-4537-89f4-0cfacf0e3113",
   "metadata": {},
   "outputs": [
    {
     "name": "stdout",
     "output_type": "stream",
     "text": [
      "Range of Clusters: [2, 3, 4, 5, 6, 7, 8, 9, 10]\n",
      "Inertia Values: [441.0315284531474, 333.7586236347223, 270.1126948582322, 216.61362052484606, 185.21950678906302, 161.63163709602435, 143.0025240411706, 129.13312417686933, 118.44467359623378]\n"
     ]
    }
   ],
   "source": [
    "print(\"Range of Clusters:\", list(range_clusters))\n",
    "print(\"Inertia Values:\", inertia)"
   ]
  },
  {
   "cell_type": "code",
   "execution_count": 45,
   "id": "24ec4c69-5527-4de4-b445-1b4eed554659",
   "metadata": {},
   "outputs": [
    {
     "data": {
      "image/png": "[encoded data removed]",
      "text/plain": [
       "<Figure size 800x500 with 1 Axes>"
      ]
     },
     "metadata": {},
     "output_type": "display_data"
    }
   ],
   "source": [
    "plt.figure(figsize=(8, 5))\n",
    "plt.plot(range_clusters, inertia, marker=\"o\", linestyle=\"-\", color=\"b\")\n",
    "plt.title(\"Elbow Method for Optimal K\")\n",
    "plt.xlabel(\"Number of Clusters (K)\")\n",
    "plt.ylabel(\"Inertia\")\n",
    "plt.grid(True)\n",
    "plt.show()"
   ]
  },
  {
   "cell_type": "code",
   "execution_count": 47,
   "id": "27a3e7e8-17c3-419b-8627-4ebb0475bcdc",
   "metadata": {},
   "outputs": [],
   "source": [
    "# Choose the optimal number of clusters based on the elbow curve\n",
    "optimal_k = 4"
   ]
  },
  {
   "cell_type": "code",
   "execution_count": 49,
   "id": "78b6e8ba-1911-41ce-9a34-1ca83bc54aed",
   "metadata": {},
   "outputs": [],
   "source": [
    "# Perform KMeans clustering\n",
    "kmeans = KMeans(n_clusters=optimal_k, random_state=42, n_init=10)\n",
    "customer_data[\"Cluster\"] = kmeans.fit_predict(scaled_features)"
   ]
  },
  {
   "cell_type": "code",
   "execution_count": 51,
   "id": "441e0475-265e-4d58-8f6c-2a86089b253c",
   "metadata": {},
   "outputs": [
    {
     "name": "stdout",
     "output_type": "stream",
     "text": [
      "Davies-Bouldin Index (DB Index): 1.0092166176966875\n"
     ]
    }
   ],
   "source": [
    "# Calculate Davies-Bouldin Index\n",
    "db_index = davies_bouldin_score(scaled_features, customer_data[\"Cluster\"])\n",
    "print(f\"Davies-Bouldin Index (DB Index): {db_index}\")"
   ]
  },
  {
   "cell_type": "code",
   "execution_count": 53,
   "id": "b36b5f50-41e6-4f8e-be12-774230212762",
   "metadata": {},
   "outputs": [],
   "source": [
    "# Perform PCA to reduce dimensionality for visualization\n",
    "pca = PCA(n_components=2)\n",
    "pca_features = pca.fit_transform(scaled_features)"
   ]
  },
  {
   "cell_type": "code",
   "execution_count": 55,
   "id": "a2e086ab-30ca-4342-83d7-3add10f30fd8",
   "metadata": {},
   "outputs": [],
   "source": [
    "# Add PCA components to the customer data for visualization\n",
    "customer_data[\"PCA1\"] = pca_features[:, 0]\n",
    "customer_data[\"PCA2\"] = pca_features[:, 1]"
   ]
  },
  {
   "cell_type": "code",
   "execution_count": 57,
   "id": "da53e4c1-8439-49d0-9540-02713d757203",
   "metadata": {},
   "outputs": [
    {
     "data": {
      "image/png": "[encoded data removed]",
      "text/plain": [
       "<Figure size 1000x700 with 1 Axes>"
      ]
     },
     "metadata": {},
     "output_type": "display_data"
    }
   ],
   "source": [
    "# Visualize clusters in reduced PCA space\n",
    "plt.figure(figsize=(10, 7))\n",
    "sns.scatterplot(x=customer_data[\"PCA1\"],y=customer_data[\"PCA2\"],hue=customer_data[\"Cluster\"],palette=\"viridis\",legend=\"full\")\n",
    "plt.title(\"Customer Clusters (PCA Visualization)\")\n",
    "plt.xlabel(\"PCA Component 1\")\n",
    "plt.ylabel(\"PCA Component 2\")\n",
    "plt.legend(title=\"Cluster\")\n",
    "plt.show()"
   ]
  },
  {
   "cell_type": "code",
   "execution_count": 65,
   "id": "5a4f2fef-4bf0-4aa3-b1b5-d14e566cdfb4",
   "metadata": {},
   "outputs": [],
   "source": [
    "# Summary of clusters\n",
    "cluster_summary = customer_data.groupby(\"Cluster\").agg(AvgTransactions=(\"TotalTransactions\", \"mean\"),AvgQuantity=(\"TotalQuantity\", \"mean\"),AvgTotalValue=(\"TotalValue\", \"mean\"),RegionMode=(\"Region\", lambda x: x.mode()[0]) ) # Most common region in each cluster"
   ]
  },
  {
   "cell_type": "code",
   "execution_count": 67,
   "id": "87b07aff-e109-4705-aafb-c8a68bcbefd3",
   "metadata": {},
   "outputs": [
    {
     "name": "stdout",
     "output_type": "stream",
     "text": [
      "Cluster Summary:\n",
      "         AvgTransactions  AvgQuantity  AvgTotalValue  RegionMode\n",
      "Cluster                                                         \n",
      "0               2.391304     5.456522    1375.533261           1\n",
      "1               7.975610    21.634146    6035.840000           3\n",
      "2               5.121212    12.530303    3368.056667           3\n",
      "3               4.891304    12.434783    3412.170652           1\n"
     ]
    }
   ],
   "source": [
    "print(\"Cluster Summary:\")\n",
    "print(cluster_summary)"
   ]
  },
  {
   "cell_type": "code",
   "execution_count": null,
   "id": "8359532d-536e-4733-9af7-fc9b735cef61",
   "metadata": {},
   "outputs": [],
   "source": []
  }
 ],
 "metadata": {
  "kernelspec": {
   "display_name": "Python 3 (ipykernel)",
   "language": "python",
   "name": "python3"
  },
  "language_info": {
   "codemirror_mode": {
    "name": "ipython",
    "version": 3
   },
   "file_extension": ".py",
   "mimetype": "text/x-python",
   "name": "python",
   "nbconvert_exporter": "python",
   "pygments_lexer": "ipython3",
   "version": "3.12.4"
  }
 },
 "nbformat": 4,
 "nbformat_minor": 5
}
